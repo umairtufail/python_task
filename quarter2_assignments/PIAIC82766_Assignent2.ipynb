{
 "cells": [
  {
   "cell_type": "markdown",
   "metadata": {},
   "source": [
    "# Assignment 2 piaic "
   ]
  },
  {
   "cell_type": "code",
   "execution_count": 3,
   "metadata": {},
   "outputs": [],
   "source": [
    "import numpy as np"
   ]
  },
  {
   "cell_type": "code",
   "execution_count": 4,
   "metadata": {},
   "outputs": [],
   "source": [
    "def function1():\n",
    "    # create 2d array from 1,12 range \n",
    "    # dimension should be 6row 2 columns  \n",
    "    # and assign this array values in x values in x variable\n",
    "    # Hint: you can use arange and reshape numpy methods  \n",
    "    x =  np.arange(1,13).reshape((6,2)) \n",
    "\n",
    "    return x"
   ]
  },
  {
   "cell_type": "code",
   "execution_count": 5,
   "metadata": {},
   "outputs": [
    {
     "data": {
      "text/plain": [
       "array([[ 1,  2],\n",
       "       [ 3,  4],\n",
       "       [ 5,  6],\n",
       "       [ 7,  8],\n",
       "       [ 9, 10],\n",
       "       [11, 12]])"
      ]
     },
     "execution_count": 5,
     "metadata": {},
     "output_type": "execute_result"
    }
   ],
   "source": [
    "function1()"
   ]
  },
  {
   "cell_type": "code",
   "execution_count": 18,
   "metadata": {},
   "outputs": [],
   "source": [
    "# Task2\n",
    "def function2():\n",
    "    #create 3D array (3,3,3)\n",
    "    #must data type should have float64\n",
    "    #array value should be satart from 10 and end with 36 (both included)\n",
    "    # Hint: dtype, reshape \n",
    "    \n",
    "    x = np.arange(10,37,dtype=np.float64).reshape((3,3,3))     #wrtie your code here\n",
    "\n",
    "\n",
    "    return x"
   ]
  },
  {
   "cell_type": "code",
   "execution_count": 19,
   "metadata": {},
   "outputs": [
    {
     "data": {
      "text/plain": [
       "array([[[10., 11., 12.],\n",
       "        [13., 14., 15.],\n",
       "        [16., 17., 18.]],\n",
       "\n",
       "       [[19., 20., 21.],\n",
       "        [22., 23., 24.],\n",
       "        [25., 26., 27.]],\n",
       "\n",
       "       [[28., 29., 30.],\n",
       "        [31., 32., 33.],\n",
       "        [34., 35., 36.]]])"
      ]
     },
     "execution_count": 19,
     "metadata": {},
     "output_type": "execute_result"
    }
   ],
   "source": [
    "function2()"
   ]
  },
  {
   "cell_type": "code",
   "execution_count": 40,
   "metadata": {},
   "outputs": [
    {
     "data": {
      "text/plain": [
       "array([[   1,    2,    3,    4,    5,    6,    7,    8,    9,   10],\n",
       "       [  11,   12,   13,   14,   15,   16,   17,   18,   19,   20],\n",
       "       [  21,   22,   23,   24,   25,   26,   27,   28,   29,   30],\n",
       "       [  31,   32,   33,   34,   35,   36,   37,   38,   39,   40],\n",
       "       [  41,   42,   43,   44,   45,   46,   47,   48,   49,   50],\n",
       "       [  51,   52,   53,   54,   55,   56,   57,   58,   59,   60],\n",
       "       [  61,   62,   63,   64,   65,   66,   67,   68,   69,   70],\n",
       "       [  71,   72,   73,   74,   75,   76,   77,   78,   79,   80],\n",
       "       [  81,   82,   83,   84,   85,   86,   87,   88,   89,   90],\n",
       "       [  91,   92,   93,   94,   95,   96,   97,   98,   99,  100],\n",
       "       [ 101,  102,  103,  104,  105,  106,  107,  108,  109,  110],\n",
       "       [ 111,  112,  113,  114,  115,  116,  117,  118,  119,  120],\n",
       "       [ 121,  122,  123,  124,  125,  126,  127,  128,  129,  130],\n",
       "       [ 131,  132,  133,  134,  135,  136,  137,  138,  139,  140],\n",
       "       [ 141,  142,  143,  144,  145,  146,  147,  148,  149,  150],\n",
       "       [ 151,  152,  153,  154,  155,  156,  157,  158,  159,  160],\n",
       "       [ 161,  162,  163,  164,  165,  166,  167,  168,  169,  170],\n",
       "       [ 171,  172,  173,  174,  175,  176,  177,  178,  179,  180],\n",
       "       [ 181,  182,  183,  184,  185,  186,  187,  188,  189,  190],\n",
       "       [ 191,  192,  193,  194,  195,  196,  197,  198,  199,  200],\n",
       "       [ 201,  202,  203,  204,  205,  206,  207,  208,  209,  210],\n",
       "       [ 211,  212,  213,  214,  215,  216,  217,  218,  219,  220],\n",
       "       [ 221,  222,  223,  224,  225,  226,  227,  228,  229,  230],\n",
       "       [ 231,  232,  233,  234,  235,  236,  237,  238,  239,  240],\n",
       "       [ 241,  242,  243,  244,  245,  246,  247,  248,  249,  250],\n",
       "       [ 251,  252,  253,  254,  255,  256,  257,  258,  259,  260],\n",
       "       [ 261,  262,  263,  264,  265,  266,  267,  268,  269,  270],\n",
       "       [ 271,  272,  273,  274,  275,  276,  277,  278,  279,  280],\n",
       "       [ 281,  282,  283,  284,  285,  286,  287,  288,  289,  290],\n",
       "       [ 291,  292,  293,  294,  295,  296,  297,  298,  299,  300],\n",
       "       [ 301,  302,  303,  304,  305,  306,  307,  308,  309,  310],\n",
       "       [ 311,  312,  313,  314,  315,  316,  317,  318,  319,  320],\n",
       "       [ 321,  322,  323,  324,  325,  326,  327,  328,  329,  330],\n",
       "       [ 331,  332,  333,  334,  335,  336,  337,  338,  339,  340],\n",
       "       [ 341,  342,  343,  344,  345,  346,  347,  348,  349,  350],\n",
       "       [ 351,  352,  353,  354,  355,  356,  357,  358,  359,  360],\n",
       "       [ 361,  362,  363,  364,  365,  366,  367,  368,  369,  370],\n",
       "       [ 371,  372,  373,  374,  375,  376,  377,  378,  379,  380],\n",
       "       [ 381,  382,  383,  384,  385,  386,  387,  388,  389,  390],\n",
       "       [ 391,  392,  393,  394,  395,  396,  397,  398,  399,  400],\n",
       "       [ 401,  402,  403,  404,  405,  406,  407,  408,  409,  410],\n",
       "       [ 411,  412,  413,  414,  415,  416,  417,  418,  419,  420],\n",
       "       [ 421,  422,  423,  424,  425,  426,  427,  428,  429,  430],\n",
       "       [ 431,  432,  433,  434,  435,  436,  437,  438,  439,  440],\n",
       "       [ 441,  442,  443,  444,  445,  446,  447,  448,  449,  450],\n",
       "       [ 451,  452,  453,  454,  455,  456,  457,  458,  459,  460],\n",
       "       [ 461,  462,  463,  464,  465,  466,  467,  468,  469,  470],\n",
       "       [ 471,  472,  473,  474,  475,  476,  477,  478,  479,  480],\n",
       "       [ 481,  482,  483,  484,  485,  486,  487,  488,  489,  490],\n",
       "       [ 491,  492,  493,  494,  495,  496,  497,  498,  499,  500],\n",
       "       [ 501,  502,  503,  504,  505,  506,  507,  508,  509,  510],\n",
       "       [ 511,  512,  513,  514,  515,  516,  517,  518,  519,  520],\n",
       "       [ 521,  522,  523,  524,  525,  526,  527,  528,  529,  530],\n",
       "       [ 531,  532,  533,  534,  535,  536,  537,  538,  539,  540],\n",
       "       [ 541,  542,  543,  544,  545,  546,  547,  548,  549,  550],\n",
       "       [ 551,  552,  553,  554,  555,  556,  557,  558,  559,  560],\n",
       "       [ 561,  562,  563,  564,  565,  566,  567,  568,  569,  570],\n",
       "       [ 571,  572,  573,  574,  575,  576,  577,  578,  579,  580],\n",
       "       [ 581,  582,  583,  584,  585,  586,  587,  588,  589,  590],\n",
       "       [ 591,  592,  593,  594,  595,  596,  597,  598,  599,  600],\n",
       "       [ 601,  602,  603,  604,  605,  606,  607,  608,  609,  610],\n",
       "       [ 611,  612,  613,  614,  615,  616,  617,  618,  619,  620],\n",
       "       [ 621,  622,  623,  624,  625,  626,  627,  628,  629,  630],\n",
       "       [ 631,  632,  633,  634,  635,  636,  637,  638,  639,  640],\n",
       "       [ 641,  642,  643,  644,  645,  646,  647,  648,  649,  650],\n",
       "       [ 651,  652,  653,  654,  655,  656,  657,  658,  659,  660],\n",
       "       [ 661,  662,  663,  664,  665,  666,  667,  668,  669,  670],\n",
       "       [ 671,  672,  673,  674,  675,  676,  677,  678,  679,  680],\n",
       "       [ 681,  682,  683,  684,  685,  686,  687,  688,  689,  690],\n",
       "       [ 691,  692,  693,  694,  695,  696,  697,  698,  699,  700],\n",
       "       [ 701,  702,  703,  704,  705,  706,  707,  708,  709,  710],\n",
       "       [ 711,  712,  713,  714,  715,  716,  717,  718,  719,  720],\n",
       "       [ 721,  722,  723,  724,  725,  726,  727,  728,  729,  730],\n",
       "       [ 731,  732,  733,  734,  735,  736,  737,  738,  739,  740],\n",
       "       [ 741,  742,  743,  744,  745,  746,  747,  748,  749,  750],\n",
       "       [ 751,  752,  753,  754,  755,  756,  757,  758,  759,  760],\n",
       "       [ 761,  762,  763,  764,  765,  766,  767,  768,  769,  770],\n",
       "       [ 771,  772,  773,  774,  775,  776,  777,  778,  779,  780],\n",
       "       [ 781,  782,  783,  784,  785,  786,  787,  788,  789,  790],\n",
       "       [ 791,  792,  793,  794,  795,  796,  797,  798,  799,  800],\n",
       "       [ 801,  802,  803,  804,  805,  806,  807,  808,  809,  810],\n",
       "       [ 811,  812,  813,  814,  815,  816,  817,  818,  819,  820],\n",
       "       [ 821,  822,  823,  824,  825,  826,  827,  828,  829,  830],\n",
       "       [ 831,  832,  833,  834,  835,  836,  837,  838,  839,  840],\n",
       "       [ 841,  842,  843,  844,  845,  846,  847,  848,  849,  850],\n",
       "       [ 851,  852,  853,  854,  855,  856,  857,  858,  859,  860],\n",
       "       [ 861,  862,  863,  864,  865,  866,  867,  868,  869,  870],\n",
       "       [ 871,  872,  873,  874,  875,  876,  877,  878,  879,  880],\n",
       "       [ 881,  882,  883,  884,  885,  886,  887,  888,  889,  890],\n",
       "       [ 891,  892,  893,  894,  895,  896,  897,  898,  899,  900],\n",
       "       [ 901,  902,  903,  904,  905,  906,  907,  908,  909,  910],\n",
       "       [ 911,  912,  913,  914,  915,  916,  917,  918,  919,  920],\n",
       "       [ 921,  922,  923,  924,  925,  926,  927,  928,  929,  930],\n",
       "       [ 931,  932,  933,  934,  935,  936,  937,  938,  939,  940],\n",
       "       [ 941,  942,  943,  944,  945,  946,  947,  948,  949,  950],\n",
       "       [ 951,  952,  953,  954,  955,  956,  957,  958,  959,  960],\n",
       "       [ 961,  962,  963,  964,  965,  966,  967,  968,  969,  970],\n",
       "       [ 971,  972,  973,  974,  975,  976,  977,  978,  979,  980],\n",
       "       [ 981,  982,  983,  984,  985,  986,  987,  988,  989,  990],\n",
       "       [ 991,  992,  993,  994,  995,  996,  997,  998,  999, 1000]])"
      ]
     },
     "execution_count": 40,
     "metadata": {},
     "output_type": "execute_result"
    }
   ],
   "source": [
    "a = np.arange(1, 100*10+1).reshape((100,10))\n",
    "a"
   ]
  },
  {
   "cell_type": "code",
   "execution_count": 59,
   "metadata": {},
   "outputs": [],
   "source": [
    "#task3\n",
    "def function3():\n",
    "    #extract those numbers from given array. those are must exist in 5,7 Table\n",
    "    #example [35,70,105,..]\n",
    "    a = np.arange(1, 100*10+1).reshape((100,10))\n",
    "    x = a #wrtie your code here\n",
    "    x=a[np.where((a%5==0) & (a%7==0))]\n",
    "    return x\n",
    "    \"\"\"\n",
    "    Expected Output:\n",
    "     [35,  70, 105, 140, 175, 210, 245, 280, 315, 350, 385, 420, 455,\n",
    "       490, 525, 560, 595, 630, 665, 700, 735, 770, 805, 840, 875, 910,\n",
    "       945, 980] \n",
    "    \"\"\" "
   ]
  },
  {
   "cell_type": "code",
   "execution_count": 60,
   "metadata": {},
   "outputs": [
    {
     "data": {
      "text/plain": [
       "array([ 35,  70, 105, 140, 175, 210, 245, 280, 315, 350, 385, 420, 455,\n",
       "       490, 525, 560, 595, 630, 665, 700, 735, 770, 805, 840, 875, 910,\n",
       "       945, 980])"
      ]
     },
     "execution_count": 60,
     "metadata": {},
     "output_type": "execute_result"
    }
   ],
   "source": [
    "function3()"
   ]
  },
  {
   "cell_type": "code",
   "execution_count": 78,
   "metadata": {},
   "outputs": [
    {
     "data": {
      "text/plain": [
       "'\\n  Expected Output:\\n        array([[1, 0, 2],\\n              [4, 3, 5],\\n              [7, 6, 8]])\\n  '"
      ]
     },
     "execution_count": 78,
     "metadata": {},
     "output_type": "execute_result"
    }
   ],
   "source": [
    "  \"\"\"\n",
    "    Expected Output:\n",
    "          array([[1, 0, 2],\n",
    "                [4, 3, 5],\n",
    "                [7, 6, 8]])\n",
    "    \"\"\" "
   ]
  },
  {
   "cell_type": "code",
   "execution_count": 101,
   "metadata": {},
   "outputs": [
    {
     "name": "stdout",
     "output_type": "stream",
     "text": [
      "orignal = \n",
      " [[0 1 2]\n",
      " [3 4 5]\n",
      " [6 7 8]]\n",
      "modified  \n",
      " [[1 0 2]\n",
      " [4 3 5]\n",
      " [7 6 8]]\n"
     ]
    }
   ],
   "source": [
    "#task4\n",
    "def function4():\n",
    "    #Swap columns 1 and 2 in the array arr.\n",
    "    arr = np.arange(9).reshape(3,3)\n",
    "    return arr #wrtie your code here\n",
    "print('orignal =','\\n',function4())\n",
    "arr=function4()\n",
    "arr[:,[0, 1]] = arr[:,[1, 0]]\n",
    "print('modified ','\\n',arr)"
   ]
  },
  {
   "cell_type": "code",
   "execution_count": 107,
   "metadata": {},
   "outputs": [],
   "source": [
    "#task5\n",
    "def function5():\n",
    "    #Create a null vector of size 20 with 4 rows and 5 columns with numpy function\n",
    "   \n",
    "    #wrtie your code here\n",
    "    z=np.zeros((4,5),dtype=int)\n",
    "    return z\n",
    "    \"\"\"\n",
    "    Expected Output:\n",
    "          array([[0, 0, 0, 0, 0],\n",
    "                [0, 0, 0, 0, 0],\n",
    "                [0, 0, 0, 0, 0],\n",
    "                [0, 0, 0, 0, 0]])\n",
    "    \"\"\" "
   ]
  },
  {
   "cell_type": "code",
   "execution_count": 108,
   "metadata": {},
   "outputs": [
    {
     "data": {
      "text/plain": [
       "array([[0, 0, 0, 0, 0],\n",
       "       [0, 0, 0, 0, 0],\n",
       "       [0, 0, 0, 0, 0],\n",
       "       [0, 0, 0, 0, 0]])"
      ]
     },
     "execution_count": 108,
     "metadata": {},
     "output_type": "execute_result"
    }
   ],
   "source": [
    "function5()"
   ]
  },
  {
   "cell_type": "code",
   "execution_count": 125,
   "metadata": {},
   "outputs": [
    {
     "data": {
      "text/plain": [
       "array([ 0,  0,  0,  0,  0, 10,  0,  0, 20,  0])"
      ]
     },
     "execution_count": 125,
     "metadata": {},
     "output_type": "execute_result"
    }
   ],
   "source": [
    "#task6\n",
    "def function6():\n",
    "    # Create a null vector of size 10 but the fifth and eighth value which is 10,20 respectively\n",
    "   \n",
    "     #wrtie your code here\n",
    "    arr=np.zeros((10),dtype=int)\n",
    "    arr[5]=10\n",
    "    arr[8]=20\n",
    "    return arr\n",
    "function6()"
   ]
  },
  {
   "cell_type": "code",
   "execution_count": 135,
   "metadata": {},
   "outputs": [
    {
     "data": {
      "text/plain": [
       "array([0, 0, 0, 0])"
      ]
     },
     "execution_count": 135,
     "metadata": {},
     "output_type": "execute_result"
    }
   ],
   "source": [
    "#task7\n",
    "def function7():\n",
    "    #  Create an array of zeros with the same shape and type as X. Dont use reshape method\n",
    "    x = np.arange(4, dtype=np.int64)\n",
    "    y =np.zeros(4,dtype=int)\n",
    "    return y  #write your code here\n",
    "\n",
    "    \"\"\"\n",
    "    Expected Output:\n",
    "          array([0, 0, 0, 0], dtype=int64)\n",
    "    \"\"\" \n",
    "function7()"
   ]
  },
  {
   "cell_type": "code",
   "execution_count": 150,
   "metadata": {},
   "outputs": [
    {
     "data": {
      "text/plain": [
       "array([[6, 6, 6, 6, 6],\n",
       "       [6, 6, 6, 6, 6]])"
      ]
     },
     "execution_count": 150,
     "metadata": {},
     "output_type": "execute_result"
    }
   ],
   "source": [
    "#task8\n",
    "def function8():\n",
    "    # Create a new array of 2x5 uints, filled with 6.\n",
    "    \n",
    "     #write your code here\n",
    "    x=np.zeros((2,5),dtype=int)\n",
    "    x[np.where(x==0)]=6\n",
    "    return x\n",
    "function8()"
   ]
  },
  {
   "cell_type": "code",
   "execution_count": 157,
   "metadata": {},
   "outputs": [
    {
     "data": {
      "text/plain": [
       "array([  2,   4,   6,   8,  10,  12,  14,  16,  18,  20,  22,  24,  26,\n",
       "        28,  30,  32,  34,  36,  38,  40,  42,  44,  46,  48,  50,  52,\n",
       "        54,  56,  58,  60,  62,  64,  66,  68,  70,  72,  74,  76,  78,\n",
       "        80,  82,  84,  86,  88,  90,  92,  94,  96,  98, 100])"
      ]
     },
     "execution_count": 157,
     "metadata": {},
     "output_type": "execute_result"
    }
   ],
   "source": [
    "def function9():\n",
    "    # Create an array of 2, 4, 6, 8, ..., 100.\n",
    "    \n",
    "     # write your code here\n",
    "    a=np.arange(2,102,2)\n",
    "    return a\n",
    "function9()"
   ]
  },
  {
   "cell_type": "code",
   "execution_count": 188,
   "metadata": {},
   "outputs": [
    {
     "data": {
      "text/plain": [
       "array([[2, 2, 2],\n",
       "       [2, 2, 2],\n",
       "       [2, 2, 2]])"
      ]
     },
     "execution_count": 188,
     "metadata": {},
     "output_type": "execute_result"
    }
   ],
   "source": [
    "def function10():\n",
    "    # Subtract the 1d array brr from the 2d array arr, such that each item of brr subtracts from respective row of arr.\n",
    "    \n",
    "    arr = np.array([[3,3,3],[4,4,4],[5,5,5]])\n",
    "    brr = np.array([1,2,3])\n",
    "    subt=np.zeros((3,3),dtype=int)\n",
    "    for i in brr-1:\n",
    "        subt[i]=np.subtract(arr[i],brr[i])\n",
    "    return subt\n",
    "function10()"
   ]
  },
  {
   "cell_type": "code",
   "execution_count": 191,
   "metadata": {},
   "outputs": [
    {
     "data": {
      "text/plain": [
       "array([ 0, -1,  2, -1,  4, -1,  6, -1,  8, -1])"
      ]
     },
     "execution_count": 191,
     "metadata": {},
     "output_type": "execute_result"
    }
   ],
   "source": [
    "#task11\n",
    "def function11():\n",
    "    # Replace all odd numbers in arr with -1 without changing arr.\n",
    "    \n",
    "    arr = np.array([0, 1, 2, 3, 4, 5, 6, 7, 8, 9])\n",
    "    ans = arr\n",
    "    ans[np.where(arr%2==1)]=-1 \n",
    "  \n",
    "    return ans\n",
    "function11()"
   ]
  },
  {
   "cell_type": "code",
   "execution_count": 200,
   "metadata": {},
   "outputs": [
    {
     "data": {
      "text/plain": [
       "array([1, 1, 1, 2, 2, 2, 3, 3, 3, 1, 2, 3, 1, 2, 3, 1, 2, 3])"
      ]
     },
     "execution_count": 200,
     "metadata": {},
     "output_type": "execute_result"
    }
   ],
   "source": [
    "    \n",
    "#task12\n",
    "def function12():\n",
    "    # Create the following pattern without hardcoding. Use only numpy functions and the below input array arr.\n",
    "    # HINT: use stacking concept\n",
    "    \n",
    "    arr = np.array([1,2,3])\n",
    "    ans=np.r_[np.repeat(arr, 3), np.tile(arr, 3)]\n",
    "    return ans\n",
    "function12()"
   ]
  },
  {
   "cell_type": "code",
   "execution_count": 207,
   "metadata": {},
   "outputs": [
    {
     "data": {
      "text/plain": [
       "array([6, 9])"
      ]
     },
     "execution_count": 207,
     "metadata": {},
     "output_type": "execute_result"
    }
   ],
   "source": [
    "#task13\n",
    "def function13():\n",
    "    # Set a condition which gets all items between 5 and 10 from arr.\n",
    "    \n",
    "    \n",
    "    arr = np.array([2, 6, 1, 9, 10, 3, 27])\n",
    "    ans = arr[np.where((arr<10)&(arr>5))]\n",
    "  \n",
    "    return ans\n",
    "function13()"
   ]
  },
  {
   "cell_type": "code",
   "execution_count": 213,
   "metadata": {},
   "outputs": [
    {
     "name": "stdout",
     "output_type": "stream",
     "text": [
      "[[10 11 12]\n",
      " [13 14 15]\n",
      " [16 17 18]\n",
      " [19 20 21]\n",
      " [22 23 24]\n",
      " [25 26 27]\n",
      " [28 29 30]\n",
      " [31 32 33]]\n",
      "[array([[10, 11, 12],\n",
      "       [13, 14, 15]]), array([[16, 17, 18],\n",
      "       [19, 20, 21]]), array([[22, 23, 24],\n",
      "       [25, 26, 27]]), array([[28, 29, 30],\n",
      "       [31, 32, 33]])]\n"
     ]
    },
    {
     "data": {
      "text/plain": [
       "[array([[10, 11, 12],\n",
       "        [13, 14, 15]]),\n",
       " array([[16, 17, 18],\n",
       "        [19, 20, 21]]),\n",
       " array([[22, 23, 24],\n",
       "        [25, 26, 27]]),\n",
       " array([[28, 29, 30],\n",
       "        [31, 32, 33]])]"
      ]
     },
     "execution_count": 213,
     "metadata": {},
     "output_type": "execute_result"
    }
   ],
   "source": [
    "def function14():\n",
    "    # Create an 8X3 integer array from a range between 10 to 34 such that the difference between each element is 1 and then Split the array into four equal-sized sub-arrays.\n",
    "    # Hint use split method\n",
    "    \n",
    "    \n",
    "    arr = np.arange(10, 34, 1) #write reshape code\n",
    "    sampleArray = arr.reshape(8,3)\n",
    "    print (sampleArray)\n",
    "\n",
    "    ans = np.split(sampleArray, 4) \n",
    "    print(ans)\n",
    "    return ans\n",
    "function14()"
   ]
  },
  {
   "cell_type": "code",
   "execution_count": 220,
   "metadata": {},
   "outputs": [
    {
     "data": {
      "text/plain": [
       "array([[-4,  1,  7],\n",
       "       [ 8,  2, -2],\n",
       "       [ 6,  3,  9]])"
      ]
     },
     "execution_count": 220,
     "metadata": {},
     "output_type": "execute_result"
    }
   ],
   "source": [
    "def function15():\n",
    "    #Sort following NumPy array by the second column\n",
    "    \n",
    "    \n",
    "    arr = np.array([[ 8,  2, -2],[-4,  1,  7],[ 6,  3,  9]])\n",
    "    ans=arr\n",
    "    ans[[0,1],:]=ans[[1,0],:]\n",
    "  \n",
    "    return ans\n",
    "\n",
    "     #Expected Output:\n",
    "          # array([[-4,  1,  7],\n",
    "           #        [ 8,  2, -2],\n",
    "            #       [ 6,  3,  9]])\n",
    "function15()"
   ]
  },
  {
   "cell_type": "code",
   "execution_count": 222,
   "metadata": {},
   "outputs": [
    {
     "data": {
      "text/plain": [
       "array([[1, 2],\n",
       "       [2, 3],\n",
       "       [3, 4]])"
      ]
     },
     "execution_count": 222,
     "metadata": {},
     "output_type": "execute_result"
    }
   ],
   "source": [
    "#task16\n",
    "def function16():\n",
    "    #Write a NumPy program to join a sequence of arrays along depth.\n",
    "    \n",
    "    \n",
    "    x = np.array([[1], [2], [3]])\n",
    "    y = np.array([[2], [3], [4]])\n",
    "    ans =  np.concatenate((x,y),axis=1)\n",
    "\n",
    "  \n",
    "    return ans\n",
    "\n",
    "   # Expected Output:\n",
    "     #           [[[1 2]]\n",
    "      #           [[2 3]]\n",
    "      #           [[3 4]]]\n",
    "function16()"
   ]
  },
  {
   "cell_type": "code",
   "execution_count": 244,
   "metadata": {},
   "outputs": [
    {
     "data": {
      "text/plain": [
       "array([['NO', 'NO', 'NO', 'NO', 'NO', 'NO', 'NO', 'NO', 'NO', 'NO'],\n",
       "       ['NO', 'NO', 'NO', 'NO', 'YES', 'NO', 'NO', 'NO', 'NO', 'NO'],\n",
       "       ['NO', 'NO', 'NO', 'NO', 'NO', 'NO', 'NO', 'NO', 'NO', 'YES'],\n",
       "       ['NO', 'NO', 'NO', 'NO', 'NO', 'NO', 'NO', 'NO', 'NO', 'NO'],\n",
       "       ['NO', 'NO', 'NO', 'NO', 'YES', 'NO', 'NO', 'NO', 'NO', 'NO'],\n",
       "       ['NO', 'NO', 'NO', 'NO', 'NO', 'NO', 'NO', 'NO', 'NO', 'YES'],\n",
       "       ['NO', 'NO', 'NO', 'NO', 'NO', 'NO', 'NO', 'NO', 'NO', 'NO'],\n",
       "       ['NO', 'NO', 'NO', 'NO', 'YES', 'NO', 'NO', 'NO', 'NO', 'NO'],\n",
       "       ['NO', 'NO', 'NO', 'NO', 'NO', 'NO', 'NO', 'NO', 'NO', 'YES'],\n",
       "       ['NO', 'NO', 'NO', 'NO', 'NO', 'NO', 'NO', 'NO', 'NO', 'NO']],\n",
       "      dtype='<U11')"
      ]
     },
     "execution_count": 244,
     "metadata": {},
     "output_type": "execute_result"
    }
   ],
   "source": [
    "#Task17\n",
    "def function17():\n",
    "    # replace numbers with \"YES\" if it divided by 3 and 5\n",
    "    # otherwise it will be replaced with \"NO\"\n",
    "    # Hint: np.where\n",
    "    arr = np.arange(1,10*10+1).reshape((10,10))\n",
    "    arr[np.where((arr%3==0)&(arr%5==0))]=-1\n",
    "    arr[np.where(arr!=-1)]=-2\n",
    "    arr=arr.astype(str)\n",
    "    arr[np.where(arr=='-1')]='YES'\n",
    "    arr[np.where(arr=='-2')]='NO'\n",
    "    return arr          \n",
    "\n",
    "#Excpected Out\n",
    "function17()"
   ]
  },
  {
   "cell_type": "code",
   "execution_count": 270,
   "metadata": {},
   "outputs": [
    {
     "data": {
      "text/plain": [
       "3"
      ]
     },
     "execution_count": 270,
     "metadata": {},
     "output_type": "execute_result"
    }
   ],
   "source": [
    "#Task18\n",
    "def function18():\n",
    "    # count values of \"students\" are exist in \"piaic\"\n",
    "    piaic = np.arange(100)\n",
    "    students = np.array([5,20,50,200,301,7001])\n",
    "    x=0\n",
    "    for i in students:\n",
    "        if i in piaic:\n",
    "            x+=1\n",
    "    return x\n",
    "function18()\n",
    "    #Expected output: 3"
   ]
  },
  {
   "cell_type": "code",
   "execution_count": 272,
   "metadata": {},
   "outputs": [
    {
     "data": {
      "text/plain": [
       "array([ 1,  2,  3,  4,  5,  6,  7,  8,  9, 10, 11, 12, 13, 14, 15, 16, 17,\n",
       "       18, 19, 20, 21, 22, 23, 24])"
      ]
     },
     "execution_count": 272,
     "metadata": {},
     "output_type": "execute_result"
    }
   ],
   "source": [
    "x=np.arange(1,26)\n",
    "x"
   ]
  },
  {
   "cell_type": "code",
   "execution_count": 274,
   "metadata": {},
   "outputs": [
    {
     "data": {
      "text/plain": [
       "array([[  6,  17,  38,  69, 110],\n",
       "       [ 17,  54, 101, 158, 225],\n",
       "       [ 38, 101, 174, 257, 350],\n",
       "       [ 69, 158, 257, 366, 485],\n",
       "       [110, 225, 350, 485, 630]])"
      ]
     },
     "execution_count": 274,
     "metadata": {},
     "output_type": "execute_result"
    }
   ],
   "source": [
    "# Task19\n",
    "def function19():\n",
    "    #Create variable \"X\" from 1,25 (both are included) range values\n",
    "    #Convert \"X\" variable dimension into 5 rows and 5 columns\n",
    "    #Create one more variable \"W\" copy of \"X\" \n",
    "    #Swap \"W\" row and column axis (like transpose)\n",
    "    # then create variable \"b\" with value equal to 5\n",
    "    # Now return output as \"(X*W)+b:\n",
    "\n",
    "    X =   np.arange(1,26).reshape(5,5)\n",
    "    W =   np.transpose(X)\n",
    "    b =   5\n",
    "    output =   (X*W)+b\n",
    "    return output\n",
    "    #expected output\n",
    "    \"\"\"\n",
    "    array([[  6,  17,  38,  69, 110],\n",
    "       [ 17,  54, 101, 158, 225],\n",
    "       [ 38, 101, 174, 257, 350],\n",
    "       [ 69, 158, 257, 366, 485],\n",
    "       [110, 225, 350, 485, 630]])\n",
    "    \"\"\"\n",
    "function19()"
   ]
  },
  {
   "cell_type": "code",
   "execution_count": 281,
   "metadata": {},
   "outputs": [
    {
     "data": {
      "text/plain": [
       "array([ 3,  5,  7,  9, 11, 13, 15, 17, 19, 21])"
      ]
     },
     "execution_count": 281,
     "metadata": {},
     "output_type": "execute_result"
    }
   ],
   "source": [
    "def function20():\n",
    "    #apply fuction \"abc\" on each value of Array \"X\"\n",
    "    x = np.arange(1,11)\n",
    "    def abc(x):\n",
    "        return x*2+3-2\n",
    "    j=0\n",
    "    for i in x:\n",
    "        x[j]=abc(i)\n",
    "        j+=1\n",
    "    return x\n",
    "#Expected Output: array([ 3,  5,  7,  9, 11, 13, 15, 17, 19, 21])\n",
    "function20()"
   ]
  },
  {
   "cell_type": "code",
   "execution_count": null,
   "metadata": {},
   "outputs": [],
   "source": []
  }
 ],
 "metadata": {
  "kernelspec": {
   "display_name": "Python 3",
   "language": "python",
   "name": "python3"
  },
  "language_info": {
   "codemirror_mode": {
    "name": "ipython",
    "version": 3
   },
   "file_extension": ".py",
   "mimetype": "text/x-python",
   "name": "python",
   "nbconvert_exporter": "python",
   "pygments_lexer": "ipython3",
   "version": "3.8.5"
  }
 },
 "nbformat": 4,
 "nbformat_minor": 4
}
